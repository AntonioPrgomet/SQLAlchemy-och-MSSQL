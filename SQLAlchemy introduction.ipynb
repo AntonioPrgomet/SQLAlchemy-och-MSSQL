{
 "cells": [
  {
   "cell_type": "markdown",
   "id": "b6c73f12",
   "metadata": {},
   "source": [
    "# Introduction to SQLAlchemy"
   ]
  },
  {
   "cell_type": "markdown",
   "id": "8b7bc934",
   "metadata": {},
   "source": [
    "- __0.__ Introduction\n",
    "- __1.__ Importing necessary libraries\n",
    "- __2.__ Creating engine\n",
    "- __3.__ Creating the connection\n",
    "- __4.__ Inspecting the database\n",
    "- __5.__ Querying the database\n",
    "- __6.__ Read a View to DataFrame\n",
    "- __7.__ Example of Using a CTE\n",
    "- __8.__ Create a New Table from DataFrame\n",
    "- __9.__ Delete a table\n",
    "- __10.__ Workflow example"
   ]
  },
  {
   "cell_type": "markdown",
   "id": "3801ae19",
   "metadata": {},
   "source": [
    "## 0. Introduction\n",
    "SQLAlchemy is a library that facilitates communication between Python programs and databases. \n",
    "\n",
    "There are two ways of working with SQLAlchemy:\n",
    "- SQLAlchemy Core: the foundational architecture for SQLAlchemy as a “database toolkit”. It provides tools for managing connectivity to a database, interacting with database queries and results, and construction of SQL statements\n",
    "- SQLAlchemy ORM:  builds upon the Core to provide optional object-relational mapping capabilities as it represents database relations as Python objects.\n",
    "\n",
    "In this course, we will focus on the SQLAlchemy Core architecture, which gives us the following advantages:\n",
    "- Learning the basic concepts in SQLAlchemy\n",
    "- practicing the use of the Pandas library\n",
    "- practicing the use of SQL statements"
   ]
  },
  {
   "cell_type": "code",
   "execution_count": 1,
   "id": "f18af50d",
   "metadata": {
    "scrolled": true
   },
   "outputs": [
    {
     "name": "stdout",
     "output_type": "stream",
     "text": [
      "Requirement already satisfied: sqlalchemy in c:\\users\\marke\\anaconda3\\lib\\site-packages (1.4.39)\n",
      "Requirement already satisfied: greenlet!=0.4.17 in c:\\users\\marke\\anaconda3\\lib\\site-packages (from sqlalchemy) (2.0.1)\n",
      "Requirement already satisfied: pyodbc in c:\\users\\marke\\anaconda3\\lib\\site-packages (4.0.34)\n"
     ]
    }
   ],
   "source": [
    "!pip install sqlalchemy\n",
    "!pip install pyodbc"
   ]
  },
  {
   "cell_type": "markdown",
   "id": "88cd8ac1",
   "metadata": {},
   "source": [
    "## 1. Importing necessary libraries"
   ]
  },
  {
   "cell_type": "code",
   "execution_count": 2,
   "id": "bc434439",
   "metadata": {},
   "outputs": [],
   "source": [
    "from sqlalchemy import create_engine, Table, inspect\n",
    "import pandas as pd"
   ]
  },
  {
   "cell_type": "markdown",
   "id": "d8f5bd8e",
   "metadata": {},
   "source": [
    "## 2. Creating engine\n",
    "\n",
    "In order to connect to a database, first we need to create an engine. The engine references are:\n",
    "- a __Dialect__: There are several types of RDBMS, which we call dialects in SQLAlchemy. They all use SQL as a base, but they have slight differences. \\\n",
    "The most common RDBMS are: MSSQL, MySQL, PostgreSQL, Oracle, SQLite. \\\n",
    "Each dialect in SQLAlchemy has a standard DBAPI, which serves as a bridge between Python programs and the relational databases, and they standardize the way to perform database operations.\n",
    "- a __Pool__: a pool will establish a connection at the specified server location\n",
    "- a __Database__: the database name we want to connect to\n",
    "- __username__ and __password__: when using SQL Server identication, we need to provide the username and password to be able to connect to the database. When using the Microsoft Authentication method, the username and password is not required, as the user is automatically identified by the Microsoft signin credentials. \n",
    "\n",
    "__NOTE__: by creating an engine, we did not yet connect to the database, we simply gave the instructions of how and where to connect."
   ]
  },
  {
   "cell_type": "code",
   "execution_count": 3,
   "id": "649ac9ee",
   "metadata": {},
   "outputs": [],
   "source": [
    "def new_engine(dialect, server, database, user=None, password=None, integrated_security=True):\n",
    "    if integrated_security:\n",
    "        # For Windows authentication\n",
    "        eng = f\"{dialect}://{server}/{database}?trusted_connection=yes&driver=ODBC+Driver+17+for+SQL+Server\"\n",
    "    else:\n",
    "        # For SQL Server authentication\n",
    "        eng = f\"{dialect}://{user}:{password}@{server}/{database}?driver=ODBC+Driver+17+for+SQL+Server\"\n",
    "    print(eng)\n",
    "    return create_engine(eng)"
   ]
  },
  {
   "cell_type": "code",
   "execution_count": 4,
   "id": "fd99d55c",
   "metadata": {},
   "outputs": [
    {
     "name": "stdout",
     "output_type": "stream",
     "text": [
      "mssql://DESKTOP-CIKOHBH/AdventureWorks2022?trusted_connection=yes&driver=ODBC+Driver+17+for+SQL+Server\n"
     ]
    }
   ],
   "source": [
    "# For Windows authentication\n",
    "# Replace the server argument with the Server Name found when logging into SQL Server Management Studio \n",
    "# OR\n",
    "# For SQL Server authentication\n",
    "# Replace the server, user and password argument with the Server Name, username and password\n",
    "engine = new_engine('mssql', 'DESKTOP-CIKOHBH', 'AdventureWorks2022', integrated_security=True)"
   ]
  },
  {
   "cell_type": "code",
   "execution_count": 5,
   "id": "a6c3021d",
   "metadata": {},
   "outputs": [
    {
     "name": "stdout",
     "output_type": "stream",
     "text": [
      "<class 'sqlalchemy.engine.base.Engine'>\n"
     ]
    }
   ],
   "source": [
    "print(type(engine))"
   ]
  },
  {
   "cell_type": "markdown",
   "id": "d226f767",
   "metadata": {},
   "source": [
    "## 3. Creating the connection\n",
    "\n",
    "The engine class instance we created has the .connect() method, which returns a Connection object and technically creates the connection between the database and our Python application."
   ]
  },
  {
   "cell_type": "code",
   "execution_count": 6,
   "id": "228edc31",
   "metadata": {},
   "outputs": [],
   "source": [
    "connection = engine.connect()"
   ]
  },
  {
   "cell_type": "code",
   "execution_count": 7,
   "id": "07dd3f61",
   "metadata": {},
   "outputs": [
    {
     "name": "stdout",
     "output_type": "stream",
     "text": [
      "<class 'sqlalchemy.engine.base.Connection'>\n"
     ]
    }
   ],
   "source": [
    "print(type(connection))"
   ]
  },
  {
   "cell_type": "markdown",
   "id": "18d93d82",
   "metadata": {},
   "source": [
    "## 4. Inspecting the database\n",
    "\n",
    "Now that we have a connection to the database, we can inspect its contents. \\\n",
    "The AdventureWorks database has multiple schemas which we can list with the following command."
   ]
  },
  {
   "cell_type": "code",
   "execution_count": 8,
   "id": "e2c170e1",
   "metadata": {},
   "outputs": [
    {
     "name": "stdout",
     "output_type": "stream",
     "text": [
      "['db_accessadmin', 'db_backupoperator', 'db_datareader', 'db_datawriter', 'db_ddladmin', 'db_denydatareader', 'db_denydatawriter', 'db_owner', 'db_securityadmin', 'dbo', 'guest', 'HumanResources', 'INFORMATION_SCHEMA', 'Person', 'Production', 'Purchasing', 'Sales', 'sys']\n"
     ]
    }
   ],
   "source": [
    "inspector = inspect(engine)\n",
    "schemas = inspector.get_schema_names()\n",
    "print(schemas)"
   ]
  },
  {
   "cell_type": "code",
   "execution_count": 9,
   "id": "099ed1fd",
   "metadata": {},
   "outputs": [
    {
     "name": "stdout",
     "output_type": "stream",
     "text": [
      "db_accessadmin\n",
      "db_backupoperator\n",
      "db_datareader\n",
      "db_datawriter\n",
      "db_ddladmin\n",
      "db_denydatareader\n",
      "db_denydatawriter\n",
      "db_owner\n",
      "db_securityadmin\n",
      "dbo\n",
      "guest\n",
      "HumanResources\n",
      "INFORMATION_SCHEMA\n",
      "Person\n",
      "Production\n",
      "Purchasing\n",
      "Sales\n",
      "sys\n"
     ]
    }
   ],
   "source": [
    "for schema in schemas:\n",
    "    print(schema)"
   ]
  },
  {
   "cell_type": "markdown",
   "id": "742c296b",
   "metadata": {},
   "source": [
    "Each schema in the database logically groups together tables, views, indexes and procedures. Schemas also help with security, as we can grant permission for users into specific schemas. \\\n",
    "In this example we list all the available tables in the Sales schema. All these tables are related to sales or the sales department."
   ]
  },
  {
   "cell_type": "code",
   "execution_count": 10,
   "id": "1b0e5f67",
   "metadata": {},
   "outputs": [
    {
     "name": "stdout",
     "output_type": "stream",
     "text": [
      "['August_Goal_Table', 'CountryRegionCurrency', 'CreditCard', 'Currency', 'CurrencyRate', 'Customer', 'PersonCreditCard', 'SalesOrderDetail', 'SalesOrderHeader', 'SalesOrderHeaderSalesReason', 'SalesPerson', 'SalesPersonQuotaHistory', 'SalesReason', 'SalesTaxRate', 'SalesTerritory', 'SalesTerritoryHistory', 'ShoppingCartItem', 'SpecialOffer', 'SpecialOfferProduct', 'Store']\n"
     ]
    }
   ],
   "source": [
    "print(inspector.get_table_names(schema='Sales'))"
   ]
  },
  {
   "cell_type": "code",
   "execution_count": 13,
   "id": "ea9b9df5",
   "metadata": {},
   "outputs": [
    {
     "name": "stdout",
     "output_type": "stream",
     "text": [
      "CustomerID\n",
      "PersonID\n",
      "StoreID\n",
      "TerritoryID\n",
      "AccountNumber\n",
      "rowguid\n",
      "ModifiedDate\n"
     ]
    }
   ],
   "source": [
    "for col in inspector.get_columns(table_name='Customer', schema='Sales'):\n",
    "#     print(col)\n",
    "    print(col['name'])"
   ]
  },
  {
   "cell_type": "markdown",
   "id": "5d0ee925",
   "metadata": {},
   "source": [
    "## 5. Querying the database\n",
    "\n",
    "The Pandas library can directly connect to and query a database with the .read_sql() method. The two most important arguments of the method are:\n",
    "- sql: this is the SQL command that the query will execute  \n",
    "- con: the connection we defined to the database\n",
    "\n",
    "The result is a Pandas DataFrame."
   ]
  },
  {
   "cell_type": "code",
   "execution_count": 14,
   "id": "6e4a20e2",
   "metadata": {},
   "outputs": [],
   "source": [
    "df = pd.read_sql(sql=\"SELECT * from Sales.Customer\", con=connection)"
   ]
  },
  {
   "cell_type": "code",
   "execution_count": 15,
   "id": "d584e6a5",
   "metadata": {},
   "outputs": [
    {
     "data": {
      "text/html": [
       "<div>\n",
       "<style scoped>\n",
       "    .dataframe tbody tr th:only-of-type {\n",
       "        vertical-align: middle;\n",
       "    }\n",
       "\n",
       "    .dataframe tbody tr th {\n",
       "        vertical-align: top;\n",
       "    }\n",
       "\n",
       "    .dataframe thead th {\n",
       "        text-align: right;\n",
       "    }\n",
       "</style>\n",
       "<table border=\"1\" class=\"dataframe\">\n",
       "  <thead>\n",
       "    <tr style=\"text-align: right;\">\n",
       "      <th></th>\n",
       "      <th>CustomerID</th>\n",
       "      <th>PersonID</th>\n",
       "      <th>StoreID</th>\n",
       "      <th>TerritoryID</th>\n",
       "      <th>AccountNumber</th>\n",
       "      <th>rowguid</th>\n",
       "      <th>ModifiedDate</th>\n",
       "    </tr>\n",
       "  </thead>\n",
       "  <tbody>\n",
       "    <tr>\n",
       "      <th>0</th>\n",
       "      <td>1</td>\n",
       "      <td>NaN</td>\n",
       "      <td>934.0</td>\n",
       "      <td>1</td>\n",
       "      <td>AW00000001</td>\n",
       "      <td>3F5AE95E-B87D-4AED-95B4-C3797AFCB74F</td>\n",
       "      <td>2014-09-12 11:15:07.263</td>\n",
       "    </tr>\n",
       "    <tr>\n",
       "      <th>1</th>\n",
       "      <td>2</td>\n",
       "      <td>NaN</td>\n",
       "      <td>1028.0</td>\n",
       "      <td>1</td>\n",
       "      <td>AW00000002</td>\n",
       "      <td>E552F657-A9AF-4A7D-A645-C429D6E02491</td>\n",
       "      <td>2014-09-12 11:15:07.263</td>\n",
       "    </tr>\n",
       "    <tr>\n",
       "      <th>2</th>\n",
       "      <td>3</td>\n",
       "      <td>NaN</td>\n",
       "      <td>642.0</td>\n",
       "      <td>4</td>\n",
       "      <td>AW00000003</td>\n",
       "      <td>130774B1-DB21-4EF3-98C8-C104BCD6ED6D</td>\n",
       "      <td>2014-09-12 11:15:07.263</td>\n",
       "    </tr>\n",
       "    <tr>\n",
       "      <th>3</th>\n",
       "      <td>4</td>\n",
       "      <td>NaN</td>\n",
       "      <td>932.0</td>\n",
       "      <td>4</td>\n",
       "      <td>AW00000004</td>\n",
       "      <td>FF862851-1DAA-4044-BE7C-3E85583C054D</td>\n",
       "      <td>2014-09-12 11:15:07.263</td>\n",
       "    </tr>\n",
       "    <tr>\n",
       "      <th>4</th>\n",
       "      <td>5</td>\n",
       "      <td>NaN</td>\n",
       "      <td>1026.0</td>\n",
       "      <td>4</td>\n",
       "      <td>AW00000005</td>\n",
       "      <td>83905BDC-6F5E-4F71-B162-C98DA069F38A</td>\n",
       "      <td>2014-09-12 11:15:07.263</td>\n",
       "    </tr>\n",
       "    <tr>\n",
       "      <th>5</th>\n",
       "      <td>6</td>\n",
       "      <td>NaN</td>\n",
       "      <td>644.0</td>\n",
       "      <td>4</td>\n",
       "      <td>AW00000006</td>\n",
       "      <td>1A92DF88-BFA2-467D-BD54-FCB9E647FDD7</td>\n",
       "      <td>2014-09-12 11:15:07.263</td>\n",
       "    </tr>\n",
       "    <tr>\n",
       "      <th>6</th>\n",
       "      <td>7</td>\n",
       "      <td>NaN</td>\n",
       "      <td>930.0</td>\n",
       "      <td>1</td>\n",
       "      <td>AW00000007</td>\n",
       "      <td>03E9273E-B193-448E-9823-FE0C44AEED78</td>\n",
       "      <td>2014-09-12 11:15:07.263</td>\n",
       "    </tr>\n",
       "    <tr>\n",
       "      <th>7</th>\n",
       "      <td>8</td>\n",
       "      <td>NaN</td>\n",
       "      <td>1024.0</td>\n",
       "      <td>5</td>\n",
       "      <td>AW00000008</td>\n",
       "      <td>801368B1-4323-4BFA-8BEA-5B5B1E4BD4A0</td>\n",
       "      <td>2014-09-12 11:15:07.263</td>\n",
       "    </tr>\n",
       "    <tr>\n",
       "      <th>8</th>\n",
       "      <td>9</td>\n",
       "      <td>NaN</td>\n",
       "      <td>620.0</td>\n",
       "      <td>5</td>\n",
       "      <td>AW00000009</td>\n",
       "      <td>B900BB7F-23C3-481D-80DA-C49A5BD6F772</td>\n",
       "      <td>2014-09-12 11:15:07.263</td>\n",
       "    </tr>\n",
       "    <tr>\n",
       "      <th>9</th>\n",
       "      <td>10</td>\n",
       "      <td>NaN</td>\n",
       "      <td>928.0</td>\n",
       "      <td>6</td>\n",
       "      <td>AW00000010</td>\n",
       "      <td>CDB6698D-2FF1-4FBA-8F22-60AD1D11DABD</td>\n",
       "      <td>2014-09-12 11:15:07.263</td>\n",
       "    </tr>\n",
       "    <tr>\n",
       "      <th>10</th>\n",
       "      <td>11</td>\n",
       "      <td>NaN</td>\n",
       "      <td>1022.0</td>\n",
       "      <td>6</td>\n",
       "      <td>AW00000011</td>\n",
       "      <td>750F3495-59C4-48A0-80E1-E37EC60E77D9</td>\n",
       "      <td>2014-09-12 11:15:07.263</td>\n",
       "    </tr>\n",
       "    <tr>\n",
       "      <th>11</th>\n",
       "      <td>12</td>\n",
       "      <td>NaN</td>\n",
       "      <td>622.0</td>\n",
       "      <td>6</td>\n",
       "      <td>AW00000012</td>\n",
       "      <td>947BCAF1-1F32-44F3-B9C3-0011F95FBE54</td>\n",
       "      <td>2014-09-12 11:15:07.263</td>\n",
       "    </tr>\n",
       "  </tbody>\n",
       "</table>\n",
       "</div>"
      ],
      "text/plain": [
       "    CustomerID  PersonID  StoreID  TerritoryID AccountNumber  \\\n",
       "0            1       NaN    934.0            1    AW00000001   \n",
       "1            2       NaN   1028.0            1    AW00000002   \n",
       "2            3       NaN    642.0            4    AW00000003   \n",
       "3            4       NaN    932.0            4    AW00000004   \n",
       "4            5       NaN   1026.0            4    AW00000005   \n",
       "5            6       NaN    644.0            4    AW00000006   \n",
       "6            7       NaN    930.0            1    AW00000007   \n",
       "7            8       NaN   1024.0            5    AW00000008   \n",
       "8            9       NaN    620.0            5    AW00000009   \n",
       "9           10       NaN    928.0            6    AW00000010   \n",
       "10          11       NaN   1022.0            6    AW00000011   \n",
       "11          12       NaN    622.0            6    AW00000012   \n",
       "\n",
       "                                 rowguid            ModifiedDate  \n",
       "0   3F5AE95E-B87D-4AED-95B4-C3797AFCB74F 2014-09-12 11:15:07.263  \n",
       "1   E552F657-A9AF-4A7D-A645-C429D6E02491 2014-09-12 11:15:07.263  \n",
       "2   130774B1-DB21-4EF3-98C8-C104BCD6ED6D 2014-09-12 11:15:07.263  \n",
       "3   FF862851-1DAA-4044-BE7C-3E85583C054D 2014-09-12 11:15:07.263  \n",
       "4   83905BDC-6F5E-4F71-B162-C98DA069F38A 2014-09-12 11:15:07.263  \n",
       "5   1A92DF88-BFA2-467D-BD54-FCB9E647FDD7 2014-09-12 11:15:07.263  \n",
       "6   03E9273E-B193-448E-9823-FE0C44AEED78 2014-09-12 11:15:07.263  \n",
       "7   801368B1-4323-4BFA-8BEA-5B5B1E4BD4A0 2014-09-12 11:15:07.263  \n",
       "8   B900BB7F-23C3-481D-80DA-C49A5BD6F772 2014-09-12 11:15:07.263  \n",
       "9   CDB6698D-2FF1-4FBA-8F22-60AD1D11DABD 2014-09-12 11:15:07.263  \n",
       "10  750F3495-59C4-48A0-80E1-E37EC60E77D9 2014-09-12 11:15:07.263  \n",
       "11  947BCAF1-1F32-44F3-B9C3-0011F95FBE54 2014-09-12 11:15:07.263  "
      ]
     },
     "execution_count": 15,
     "metadata": {},
     "output_type": "execute_result"
    }
   ],
   "source": [
    "df.head(12)"
   ]
  },
  {
   "cell_type": "markdown",
   "id": "c5c811f9",
   "metadata": {},
   "source": [
    "The SQL query can get as complex as the user wants.\\\n",
    "Here is an example of multiple JOIN statements"
   ]
  },
  {
   "cell_type": "code",
   "execution_count": 16,
   "id": "082d0091",
   "metadata": {},
   "outputs": [],
   "source": [
    "multijoin_sql =\"\"\"\n",
    "SELECT\n",
    "  c.CustomerID, \n",
    "  c.StoreID, \n",
    "  c.AccountNumber, \n",
    "  soh.SalesOrderID, \n",
    "  sod.ProductID\n",
    "FROM Sales.Customer AS c INNER JOIN Sales.SalesOrderHeader AS soh \n",
    "    ON c.CustomerID = soh.CustomerID\n",
    "INNER JOIN Sales.SalesOrderDetail AS sod \n",
    "    ON soh.SalesOrderID = sod.SalesOrderID\n",
    "\"\"\"\n",
    "join_df = pd.read_sql(sql=multijoin_sql, con=connection)"
   ]
  },
  {
   "cell_type": "code",
   "execution_count": 17,
   "id": "edc9471e",
   "metadata": {},
   "outputs": [
    {
     "data": {
      "text/html": [
       "<div>\n",
       "<style scoped>\n",
       "    .dataframe tbody tr th:only-of-type {\n",
       "        vertical-align: middle;\n",
       "    }\n",
       "\n",
       "    .dataframe tbody tr th {\n",
       "        vertical-align: top;\n",
       "    }\n",
       "\n",
       "    .dataframe thead th {\n",
       "        text-align: right;\n",
       "    }\n",
       "</style>\n",
       "<table border=\"1\" class=\"dataframe\">\n",
       "  <thead>\n",
       "    <tr style=\"text-align: right;\">\n",
       "      <th></th>\n",
       "      <th>CustomerID</th>\n",
       "      <th>StoreID</th>\n",
       "      <th>AccountNumber</th>\n",
       "      <th>SalesOrderID</th>\n",
       "      <th>ProductID</th>\n",
       "    </tr>\n",
       "  </thead>\n",
       "  <tbody>\n",
       "    <tr>\n",
       "      <th>0</th>\n",
       "      <td>29580</td>\n",
       "      <td>518.0</td>\n",
       "      <td>AW00029580</td>\n",
       "      <td>43665</td>\n",
       "      <td>707</td>\n",
       "    </tr>\n",
       "    <tr>\n",
       "      <th>1</th>\n",
       "      <td>29614</td>\n",
       "      <td>592.0</td>\n",
       "      <td>AW00029614</td>\n",
       "      <td>43668</td>\n",
       "      <td>707</td>\n",
       "    </tr>\n",
       "    <tr>\n",
       "      <th>2</th>\n",
       "      <td>29844</td>\n",
       "      <td>1086.0</td>\n",
       "      <td>AW00029844</td>\n",
       "      <td>43673</td>\n",
       "      <td>707</td>\n",
       "    </tr>\n",
       "    <tr>\n",
       "      <th>3</th>\n",
       "      <td>29824</td>\n",
       "      <td>1044.0</td>\n",
       "      <td>AW00029824</td>\n",
       "      <td>43677</td>\n",
       "      <td>707</td>\n",
       "    </tr>\n",
       "    <tr>\n",
       "      <th>4</th>\n",
       "      <td>29889</td>\n",
       "      <td>1184.0</td>\n",
       "      <td>AW00029889</td>\n",
       "      <td>43678</td>\n",
       "      <td>707</td>\n",
       "    </tr>\n",
       "  </tbody>\n",
       "</table>\n",
       "</div>"
      ],
      "text/plain": [
       "   CustomerID  StoreID AccountNumber  SalesOrderID  ProductID\n",
       "0       29580    518.0    AW00029580         43665        707\n",
       "1       29614    592.0    AW00029614         43668        707\n",
       "2       29844   1086.0    AW00029844         43673        707\n",
       "3       29824   1044.0    AW00029824         43677        707\n",
       "4       29889   1184.0    AW00029889         43678        707"
      ]
     },
     "execution_count": 17,
     "metadata": {},
     "output_type": "execute_result"
    }
   ],
   "source": [
    "join_df.head()"
   ]
  },
  {
   "cell_type": "markdown",
   "id": "482b8533",
   "metadata": {},
   "source": [
    "## 6. Read a View to DataFrame\n",
    "Reading in Views into a DataFrame is the exact same process as reading the tables, we just need to specify which view to read"
   ]
  },
  {
   "cell_type": "code",
   "execution_count": 18,
   "id": "7f3e6597",
   "metadata": {},
   "outputs": [],
   "source": [
    "view_sql = \"\"\"\n",
    "SELECT * \n",
    "FROM HumanResources.vEmployee\n",
    "\"\"\"\n",
    "\n",
    "view = pd.read_sql(sql=view_sql, con=connection)"
   ]
  },
  {
   "cell_type": "code",
   "execution_count": 19,
   "id": "4208f94b",
   "metadata": {},
   "outputs": [
    {
     "data": {
      "text/html": [
       "<div>\n",
       "<style scoped>\n",
       "    .dataframe tbody tr th:only-of-type {\n",
       "        vertical-align: middle;\n",
       "    }\n",
       "\n",
       "    .dataframe tbody tr th {\n",
       "        vertical-align: top;\n",
       "    }\n",
       "\n",
       "    .dataframe thead th {\n",
       "        text-align: right;\n",
       "    }\n",
       "</style>\n",
       "<table border=\"1\" class=\"dataframe\">\n",
       "  <thead>\n",
       "    <tr style=\"text-align: right;\">\n",
       "      <th></th>\n",
       "      <th>BusinessEntityID</th>\n",
       "      <th>Title</th>\n",
       "      <th>FirstName</th>\n",
       "      <th>MiddleName</th>\n",
       "      <th>LastName</th>\n",
       "      <th>Suffix</th>\n",
       "      <th>JobTitle</th>\n",
       "      <th>PhoneNumber</th>\n",
       "      <th>PhoneNumberType</th>\n",
       "      <th>EmailAddress</th>\n",
       "      <th>EmailPromotion</th>\n",
       "      <th>AddressLine1</th>\n",
       "      <th>AddressLine2</th>\n",
       "      <th>City</th>\n",
       "      <th>StateProvinceName</th>\n",
       "      <th>PostalCode</th>\n",
       "      <th>CountryRegionName</th>\n",
       "      <th>AdditionalContactInfo</th>\n",
       "    </tr>\n",
       "  </thead>\n",
       "  <tbody>\n",
       "    <tr>\n",
       "      <th>0</th>\n",
       "      <td>250</td>\n",
       "      <td>None</td>\n",
       "      <td>Sheela</td>\n",
       "      <td>H</td>\n",
       "      <td>Word</td>\n",
       "      <td>None</td>\n",
       "      <td>Purchasing Manager</td>\n",
       "      <td>210-555-0193</td>\n",
       "      <td>Work</td>\n",
       "      <td>sheela0@adventure-works.com</td>\n",
       "      <td>0</td>\n",
       "      <td>535 Greendell Pl</td>\n",
       "      <td>None</td>\n",
       "      <td>Sammamish</td>\n",
       "      <td>Washington</td>\n",
       "      <td>98074</td>\n",
       "      <td>United States</td>\n",
       "      <td>None</td>\n",
       "    </tr>\n",
       "    <tr>\n",
       "      <th>1</th>\n",
       "      <td>249</td>\n",
       "      <td>None</td>\n",
       "      <td>Wendy</td>\n",
       "      <td>Beth</td>\n",
       "      <td>Kahn</td>\n",
       "      <td>None</td>\n",
       "      <td>Finance Manager</td>\n",
       "      <td>248-555-0134</td>\n",
       "      <td>Work</td>\n",
       "      <td>wendy0@adventure-works.com</td>\n",
       "      <td>2</td>\n",
       "      <td>4525 Benedict Ct.</td>\n",
       "      <td>None</td>\n",
       "      <td>Sammamish</td>\n",
       "      <td>Washington</td>\n",
       "      <td>98074</td>\n",
       "      <td>United States</td>\n",
       "      <td>None</td>\n",
       "    </tr>\n",
       "    <tr>\n",
       "      <th>2</th>\n",
       "      <td>248</td>\n",
       "      <td>None</td>\n",
       "      <td>Mike</td>\n",
       "      <td>K</td>\n",
       "      <td>Seamans</td>\n",
       "      <td>None</td>\n",
       "      <td>Accountant</td>\n",
       "      <td>927-555-0150</td>\n",
       "      <td>Work</td>\n",
       "      <td>mike0@adventure-works.com</td>\n",
       "      <td>2</td>\n",
       "      <td>1245 Clay Road</td>\n",
       "      <td>None</td>\n",
       "      <td>Index</td>\n",
       "      <td>Washington</td>\n",
       "      <td>98256</td>\n",
       "      <td>United States</td>\n",
       "      <td>None</td>\n",
       "    </tr>\n",
       "    <tr>\n",
       "      <th>3</th>\n",
       "      <td>247</td>\n",
       "      <td>None</td>\n",
       "      <td>Janet</td>\n",
       "      <td>L</td>\n",
       "      <td>Sheperdigian</td>\n",
       "      <td>None</td>\n",
       "      <td>Accounts Payable Specialist</td>\n",
       "      <td>393-555-0186</td>\n",
       "      <td>Work</td>\n",
       "      <td>janet0@adventure-works.com</td>\n",
       "      <td>0</td>\n",
       "      <td>6871 Thornwood Dr.</td>\n",
       "      <td>None</td>\n",
       "      <td>Sammamish</td>\n",
       "      <td>Washington</td>\n",
       "      <td>98074</td>\n",
       "      <td>United States</td>\n",
       "      <td>None</td>\n",
       "    </tr>\n",
       "    <tr>\n",
       "      <th>4</th>\n",
       "      <td>246</td>\n",
       "      <td>None</td>\n",
       "      <td>Dragan</td>\n",
       "      <td>K</td>\n",
       "      <td>Tomic</td>\n",
       "      <td>None</td>\n",
       "      <td>Accounts Payable Specialist</td>\n",
       "      <td>117-555-0185</td>\n",
       "      <td>Work</td>\n",
       "      <td>dragan0@adventure-works.com</td>\n",
       "      <td>1</td>\n",
       "      <td>3884 Beauty Street</td>\n",
       "      <td># 14</td>\n",
       "      <td>Gold Bar</td>\n",
       "      <td>Washington</td>\n",
       "      <td>98251</td>\n",
       "      <td>United States</td>\n",
       "      <td>None</td>\n",
       "    </tr>\n",
       "  </tbody>\n",
       "</table>\n",
       "</div>"
      ],
      "text/plain": [
       "   BusinessEntityID Title FirstName MiddleName      LastName Suffix  \\\n",
       "0               250  None    Sheela          H          Word   None   \n",
       "1               249  None     Wendy       Beth          Kahn   None   \n",
       "2               248  None      Mike          K       Seamans   None   \n",
       "3               247  None     Janet          L  Sheperdigian   None   \n",
       "4               246  None    Dragan          K         Tomic   None   \n",
       "\n",
       "                      JobTitle   PhoneNumber PhoneNumberType  \\\n",
       "0           Purchasing Manager  210-555-0193            Work   \n",
       "1              Finance Manager  248-555-0134            Work   \n",
       "2                   Accountant  927-555-0150            Work   \n",
       "3  Accounts Payable Specialist  393-555-0186            Work   \n",
       "4  Accounts Payable Specialist  117-555-0185            Work   \n",
       "\n",
       "                  EmailAddress  EmailPromotion        AddressLine1  \\\n",
       "0  sheela0@adventure-works.com               0    535 Greendell Pl   \n",
       "1   wendy0@adventure-works.com               2   4525 Benedict Ct.   \n",
       "2    mike0@adventure-works.com               2      1245 Clay Road   \n",
       "3   janet0@adventure-works.com               0  6871 Thornwood Dr.   \n",
       "4  dragan0@adventure-works.com               1  3884 Beauty Street   \n",
       "\n",
       "  AddressLine2       City StateProvinceName PostalCode CountryRegionName  \\\n",
       "0         None  Sammamish        Washington      98074     United States   \n",
       "1         None  Sammamish        Washington      98074     United States   \n",
       "2         None      Index        Washington      98256     United States   \n",
       "3         None  Sammamish        Washington      98074     United States   \n",
       "4         # 14   Gold Bar        Washington      98251     United States   \n",
       "\n",
       "  AdditionalContactInfo  \n",
       "0                  None  \n",
       "1                  None  \n",
       "2                  None  \n",
       "3                  None  \n",
       "4                  None  "
      ]
     },
     "execution_count": 19,
     "metadata": {},
     "output_type": "execute_result"
    }
   ],
   "source": [
    "view.head()"
   ]
  },
  {
   "cell_type": "markdown",
   "id": "16fd9e1e",
   "metadata": {},
   "source": [
    "## 7. Example of Using a CTE (Common Table Expression)\n",
    "Common Table Expressions are a great tool for managing more complex queries.\\\n",
    "Basically we create intermediate temporary tables, which we use later in further queries."
   ]
  },
  {
   "cell_type": "code",
   "execution_count": 20,
   "id": "bf0b8bac",
   "metadata": {},
   "outputs": [
    {
     "data": {
      "text/html": [
       "<div>\n",
       "<style scoped>\n",
       "    .dataframe tbody tr th:only-of-type {\n",
       "        vertical-align: middle;\n",
       "    }\n",
       "\n",
       "    .dataframe tbody tr th {\n",
       "        vertical-align: top;\n",
       "    }\n",
       "\n",
       "    .dataframe thead th {\n",
       "        text-align: right;\n",
       "    }\n",
       "</style>\n",
       "<table border=\"1\" class=\"dataframe\">\n",
       "  <thead>\n",
       "    <tr style=\"text-align: right;\">\n",
       "      <th></th>\n",
       "      <th>BusinessEntityID</th>\n",
       "      <th>FirstName</th>\n",
       "      <th>LastName</th>\n",
       "      <th>JobTitle</th>\n",
       "      <th>TotalSum</th>\n",
       "    </tr>\n",
       "  </thead>\n",
       "  <tbody>\n",
       "    <tr>\n",
       "      <th>0</th>\n",
       "      <td>274</td>\n",
       "      <td>Stephen</td>\n",
       "      <td>Jiang</td>\n",
       "      <td>North American Sales Manager</td>\n",
       "      <td>1.092124e+06</td>\n",
       "    </tr>\n",
       "    <tr>\n",
       "      <th>1</th>\n",
       "      <td>275</td>\n",
       "      <td>Michael</td>\n",
       "      <td>Blythe</td>\n",
       "      <td>Sales Representative</td>\n",
       "      <td>9.293903e+06</td>\n",
       "    </tr>\n",
       "    <tr>\n",
       "      <th>2</th>\n",
       "      <td>278</td>\n",
       "      <td>Garrett</td>\n",
       "      <td>Vargas</td>\n",
       "      <td>Sales Representative</td>\n",
       "      <td>3.609447e+06</td>\n",
       "    </tr>\n",
       "    <tr>\n",
       "      <th>3</th>\n",
       "      <td>279</td>\n",
       "      <td>Tsvi</td>\n",
       "      <td>Reiter</td>\n",
       "      <td>Sales Representative</td>\n",
       "      <td>7.171013e+06</td>\n",
       "    </tr>\n",
       "    <tr>\n",
       "      <th>4</th>\n",
       "      <td>281</td>\n",
       "      <td>Shu</td>\n",
       "      <td>Ito</td>\n",
       "      <td>Sales Representative</td>\n",
       "      <td>6.427006e+06</td>\n",
       "    </tr>\n",
       "    <tr>\n",
       "      <th>5</th>\n",
       "      <td>282</td>\n",
       "      <td>José</td>\n",
       "      <td>Saraiva</td>\n",
       "      <td>Sales Representative</td>\n",
       "      <td>5.926418e+06</td>\n",
       "    </tr>\n",
       "    <tr>\n",
       "      <th>6</th>\n",
       "      <td>283</td>\n",
       "      <td>David</td>\n",
       "      <td>Campbell</td>\n",
       "      <td>Sales Representative</td>\n",
       "      <td>3.729945e+06</td>\n",
       "    </tr>\n",
       "    <tr>\n",
       "      <th>7</th>\n",
       "      <td>284</td>\n",
       "      <td>Tete</td>\n",
       "      <td>Mensa-Annan</td>\n",
       "      <td>Sales Representative</td>\n",
       "      <td>2.312546e+06</td>\n",
       "    </tr>\n",
       "    <tr>\n",
       "      <th>8</th>\n",
       "      <td>285</td>\n",
       "      <td>Syed</td>\n",
       "      <td>Abbas</td>\n",
       "      <td>Pacific Sales Manager</td>\n",
       "      <td>1.725245e+05</td>\n",
       "    </tr>\n",
       "    <tr>\n",
       "      <th>9</th>\n",
       "      <td>290</td>\n",
       "      <td>Ranjit</td>\n",
       "      <td>Varkey Chudukatil</td>\n",
       "      <td>Sales Representative</td>\n",
       "      <td>4.509889e+06</td>\n",
       "    </tr>\n",
       "  </tbody>\n",
       "</table>\n",
       "</div>"
      ],
      "text/plain": [
       "   BusinessEntityID FirstName           LastName  \\\n",
       "0               274   Stephen              Jiang   \n",
       "1               275   Michael             Blythe   \n",
       "2               278   Garrett             Vargas   \n",
       "3               279      Tsvi             Reiter   \n",
       "4               281       Shu                Ito   \n",
       "5               282      José            Saraiva   \n",
       "6               283     David           Campbell   \n",
       "7               284      Tete        Mensa-Annan   \n",
       "8               285      Syed              Abbas   \n",
       "9               290    Ranjit  Varkey Chudukatil   \n",
       "\n",
       "                       JobTitle      TotalSum  \n",
       "0  North American Sales Manager  1.092124e+06  \n",
       "1          Sales Representative  9.293903e+06  \n",
       "2          Sales Representative  3.609447e+06  \n",
       "3          Sales Representative  7.171013e+06  \n",
       "4          Sales Representative  6.427006e+06  \n",
       "5          Sales Representative  5.926418e+06  \n",
       "6          Sales Representative  3.729945e+06  \n",
       "7          Sales Representative  2.312546e+06  \n",
       "8         Pacific Sales Manager  1.725245e+05  \n",
       "9          Sales Representative  4.509889e+06  "
      ]
     },
     "execution_count": 20,
     "metadata": {},
     "output_type": "execute_result"
    }
   ],
   "source": [
    "cte_sql = \"\"\"\n",
    "WITH CTE_Employee AS (\n",
    "  SELECT \n",
    "    P.BusinessEntityID, \n",
    "    P.FirstName, \n",
    "    P.LastName, \n",
    "    HR.JobTitle \n",
    "  FROM HumanResources.Employee AS HR INNER JOIN Person.Person AS P \n",
    "      ON HR.BusinessEntityID = P.BusinessEntityID \n",
    "  WHERE \n",
    "    Gender = 'M'\n",
    ") \n",
    "SELECT \n",
    "  CTE_Employee.BusinessEntityID, \n",
    "  CTE_Employee.FirstName, \n",
    "  CTE_Employee.LastName, \n",
    "  CTE_Employee.JobTitle, \n",
    "  SUM(Sales.SubTotal) TotalSum \n",
    "FROM CTE_Employee INNER JOIN Sales.SalesOrderHeader AS Sales \n",
    "    ON CTE_Employee.BusinessEntityID = Sales.SalesPersonID \n",
    "GROUP BY \n",
    "  CTE_Employee.BusinessEntityID, \n",
    "  CTE_Employee.FirstName, \n",
    "  CTE_Employee.LastName, \n",
    "  CTE_Employee.JobTitle \n",
    "ORDER BY \n",
    "  CTE_Employee.BusinessEntityID;\n",
    "\n",
    "\"\"\"\n",
    "\n",
    "result = pd.read_sql(cte_sql, engine)\n",
    "result"
   ]
  },
  {
   "cell_type": "markdown",
   "id": "db0c2b46",
   "metadata": {},
   "source": [
    "## 8. Create a New Table from DataFrame\n",
    "Creating new tables and adding them to our database is straightforward. \\\n",
    "We create/define our DataFrame and then we use the pandas.to_sql() method. \\\n",
    "We must define:\n",
    "- the __name__ of the table\n",
    "- the connection we are using (__con__)\n",
    "- the __schema__ we want to create the table in (if not provided the table will be added the the default dbo schema) \n",
    "- if we want to have a separate index column or keep the columns as is (__index__)\n",
    "- what SQLAlchemy should do if the table already exists (__if_exists__)"
   ]
  },
  {
   "cell_type": "code",
   "execution_count": 21,
   "id": "30dc24e5",
   "metadata": {},
   "outputs": [
    {
     "data": {
      "text/html": [
       "<div>\n",
       "<style scoped>\n",
       "    .dataframe tbody tr th:only-of-type {\n",
       "        vertical-align: middle;\n",
       "    }\n",
       "\n",
       "    .dataframe tbody tr th {\n",
       "        vertical-align: top;\n",
       "    }\n",
       "\n",
       "    .dataframe thead th {\n",
       "        text-align: right;\n",
       "    }\n",
       "</style>\n",
       "<table border=\"1\" class=\"dataframe\">\n",
       "  <thead>\n",
       "    <tr style=\"text-align: right;\">\n",
       "      <th></th>\n",
       "      <th>Sketch</th>\n",
       "      <th>Length</th>\n",
       "    </tr>\n",
       "  </thead>\n",
       "  <tbody>\n",
       "    <tr>\n",
       "      <th>0</th>\n",
       "      <td>Cheese shop sketch</td>\n",
       "      <td>5:29</td>\n",
       "    </tr>\n",
       "    <tr>\n",
       "      <th>1</th>\n",
       "      <td>Silly walks</td>\n",
       "      <td>4:05</td>\n",
       "    </tr>\n",
       "    <tr>\n",
       "      <th>2</th>\n",
       "      <td>Spanish inquisition</td>\n",
       "      <td>8:17</td>\n",
       "    </tr>\n",
       "    <tr>\n",
       "      <th>3</th>\n",
       "      <td>Lumberjack song</td>\n",
       "      <td>2:41</td>\n",
       "    </tr>\n",
       "    <tr>\n",
       "      <th>4</th>\n",
       "      <td>Argument clinic</td>\n",
       "      <td>6:22</td>\n",
       "    </tr>\n",
       "  </tbody>\n",
       "</table>\n",
       "</div>"
      ],
      "text/plain": [
       "                Sketch Length\n",
       "0   Cheese shop sketch   5:29\n",
       "1          Silly walks   4:05\n",
       "2  Spanish inquisition   8:17\n",
       "3      Lumberjack song   2:41\n",
       "4      Argument clinic   6:22"
      ]
     },
     "execution_count": 21,
     "metadata": {},
     "output_type": "execute_result"
    }
   ],
   "source": [
    "data = {'Sketch':['Cheese shop sketch', 'Silly walks', 'Spanish inquisition', 'Lumberjack song', 'Argument clinic'],\n",
    "        'Length':['5:29', '4:05', '8:17', '2:41', '6:22']\n",
    "       }\n",
    "\n",
    "df2 = pd.DataFrame(data=data)\n",
    "df2"
   ]
  },
  {
   "cell_type": "code",
   "execution_count": 22,
   "id": "652a8682",
   "metadata": {},
   "outputs": [
    {
     "data": {
      "text/plain": [
       "5"
      ]
     },
     "execution_count": 22,
     "metadata": {},
     "output_type": "execute_result"
    }
   ],
   "source": [
    "df2.to_sql(name='MontyPython', con=engine, schema='Sales', index=False, if_exists='replace')"
   ]
  },
  {
   "cell_type": "code",
   "execution_count": 23,
   "id": "078a93f7",
   "metadata": {},
   "outputs": [
    {
     "data": {
      "text/plain": [
       "5"
      ]
     },
     "execution_count": 23,
     "metadata": {},
     "output_type": "execute_result"
    }
   ],
   "source": [
    "# Save the table into the default dbo schema. dbo stands for DataBase Owner\n",
    "df2.to_sql(name='MontyPython', con=engine, index=False, if_exists='replace')"
   ]
  },
  {
   "cell_type": "markdown",
   "id": "7fdbbea0",
   "metadata": {},
   "source": [
    "## 9. Delete a table"
   ]
  },
  {
   "cell_type": "code",
   "execution_count": null,
   "id": "55052954",
   "metadata": {
    "scrolled": true
   },
   "outputs": [],
   "source": [
    "# Reading the table / Check existence\n",
    "pd.read_sql(\"SELECT * FROM Sales.MontyPython\", engine)"
   ]
  },
  {
   "cell_type": "code",
   "execution_count": null,
   "id": "75fe7e06",
   "metadata": {},
   "outputs": [],
   "source": [
    "# Executing the DROP TABLE command in Pandas\n",
    "from pandas.io import sql\n",
    "sql.execute('DROP TABLE IF EXISTS Sales.MontyPython', connection)"
   ]
  },
  {
   "cell_type": "code",
   "execution_count": null,
   "id": "b9386c19",
   "metadata": {},
   "outputs": [],
   "source": [
    "# Reading the table / Check existence\n",
    "pd.read_sql(\"SELECT * FROM Sales.MontyPython\", engine)"
   ]
  },
  {
   "cell_type": "markdown",
   "id": "61204487",
   "metadata": {},
   "source": [
    "## 10. Workflow example\n",
    "In this part, we will go through an example of a workflow:\n",
    "- Read: reading in data from the database into a Pandas DataFrame\n",
    "- Update: modifying the data in the DataFrame\n",
    "- Save: saving the modified DataFrame into a new database table"
   ]
  },
  {
   "cell_type": "markdown",
   "id": "e2a1a2fe",
   "metadata": {},
   "source": [
    "#### Reading in data"
   ]
  },
  {
   "cell_type": "code",
   "execution_count": null,
   "id": "f23cf41c",
   "metadata": {
    "scrolled": true
   },
   "outputs": [],
   "source": [
    "# Read: reading in data from the database into a Pandas DataFrame\n",
    "# Products ranked based on sold amount between 2011-07-01 and 2011-08-01\n",
    "example_sql =\"\"\"\n",
    "SELECT \n",
    "  DENSE_RANK() OVER (ORDER BY SUM(SOD.OrderQty) DESC) AS SalesRank,\n",
    "  P.ProductID,\n",
    "  P.Name,\n",
    "  SUM(SOD.OrderQty) AS TotalSold\n",
    "FROM \n",
    "  Production.Product AS P \n",
    "  JOIN Sales.SalesOrderDetail AS SOD ON P.ProductID = SOD.ProductID \n",
    "  JOIN Sales.SalesOrderHeader AS SOH ON SOD.SalesOrderID = SOH.SalesOrderID\n",
    "WHERE \n",
    "  SOH.OrderDate BETWEEN '2011-07-01' AND '2011-07-31'\n",
    "GROUP BY\n",
    "  P.ProductID, P.Name\n",
    "ORDER BY\n",
    "  SUM(SOD.OrderQty) DESC\n",
    "\"\"\"\n",
    "\n",
    "example_df = pd.read_sql(example_sql, engine, index_col='SalesRank')\n",
    "example_df"
   ]
  },
  {
   "cell_type": "markdown",
   "id": "d1982f07",
   "metadata": {},
   "source": [
    "#### Modifying the DataFrame"
   ]
  },
  {
   "cell_type": "code",
   "execution_count": null,
   "id": "c53a364a",
   "metadata": {
    "scrolled": true
   },
   "outputs": [],
   "source": [
    "# Update: modifying the data in the DataFrame\n",
    "# Adding a Goal column to th DataFrame, with the next month (August) sales goal of +10% TotalSold\n",
    "example_df['August_Goal'] = round(example_df['TotalSold'] * 1.1, 0).astype(int)\n",
    "example_df"
   ]
  },
  {
   "cell_type": "markdown",
   "id": "d53ff1e6",
   "metadata": {},
   "source": [
    "#### Saving the modified DataFrame"
   ]
  },
  {
   "cell_type": "code",
   "execution_count": null,
   "id": "7d028e18",
   "metadata": {},
   "outputs": [],
   "source": [
    "# Save: saving the modified DataFrame into a new database table\n",
    "example_df.to_sql(name='August_Goal_Table', con=engine, schema='Sales', index=False, if_exists='replace')"
   ]
  },
  {
   "cell_type": "markdown",
   "id": "8acb2008",
   "metadata": {},
   "source": [
    "#### Controlling the result"
   ]
  },
  {
   "cell_type": "code",
   "execution_count": null,
   "id": "2a05337d",
   "metadata": {
    "scrolled": true
   },
   "outputs": [],
   "source": [
    "# Double checking if the new table was created\n",
    "check = pd.read_sql('SELECT * FROM Sales.August_Goal_Table', engine)\n",
    "check"
   ]
  },
  {
   "cell_type": "code",
   "execution_count": null,
   "id": "29cd79fe",
   "metadata": {},
   "outputs": [],
   "source": []
  }
 ],
 "metadata": {
  "kernelspec": {
   "display_name": "Python 3 (ipykernel)",
   "language": "python",
   "name": "python3"
  },
  "language_info": {
   "codemirror_mode": {
    "name": "ipython",
    "version": 3
   },
   "file_extension": ".py",
   "mimetype": "text/x-python",
   "name": "python",
   "nbconvert_exporter": "python",
   "pygments_lexer": "ipython3",
   "version": "3.9.17"
  }
 },
 "nbformat": 4,
 "nbformat_minor": 5
}
